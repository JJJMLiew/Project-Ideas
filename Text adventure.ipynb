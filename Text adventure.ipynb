{
 "cells": [
  {
   "cell_type": "markdown",
   "metadata": {},
   "source": [
    "What you'd like to do for a project, why you picked it, and some resources that you may use to complete it.  Resources can include webpages and repos of similar projects, linked in your document.  If you need help with markdown, refer to the sheets distributed in class\n",
    "\n",
    "I'd like to create a text adventure.\n",
    "I think it's classic, I can put minigames into it(guess the number) and it is an entry level project I can do if I keep it very very simple.\n",
    "I plan to look over some guides for creating txt adventures:\n",
    "http://letstalkdata.com/2014/08/how-to-write-a-text-adventure-in-python/\n",
    "http://blog.trinket.io/python-text-adventure/\n",
    "http://www.techradar.com/how-to/computing/how-to-code-your-own-adventure-game-in-python-1313296\n",
    "http://www.bluzeandmuse.com/final_site/how_to.html\n",
    "\n",
    "I would like there to be input(move chracter NSEW) and a 'map' that prints each time consisting of simple symbols showing location, walls etc.\n",
    "\n",
    "At certain point there will be an interaction avalible so, including movement, when at a specfific location it will print a small txt about the option and say 'interact' as one of the options.\n",
    "Stuff will happen (minigame, txt, getting item?) and the player will slowly 'walk' and reach the end of the game where something will happen.\n",
    "\n",
    "I'd like to find out how to after finishing the minigame the map will know to change to let the player pass.\n",
    "I could create item_List[] for collecting objects\n",
    "I'd like to find small simple intersting things to put into the game"
   ]
  }
 ],
 "metadata": {
  "anaconda-cloud": {},
  "kernelspec": {
   "display_name": "Python [Root]",
   "language": "python",
   "name": "Python [Root]"
  },
  "language_info": {
   "codemirror_mode": {
    "name": "ipython",
    "version": 3
   },
   "file_extension": ".py",
   "mimetype": "text/x-python",
   "name": "python",
   "nbconvert_exporter": "python",
   "pygments_lexer": "ipython3",
   "version": "3.5.2"
  }
 },
 "nbformat": 4,
 "nbformat_minor": 0
}
