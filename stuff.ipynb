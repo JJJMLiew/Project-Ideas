{
 "cells": [
  {
   "cell_type": "code",
   "execution_count": 21,
   "metadata": {
    "collapsed": false
   },
   "outputs": [
    {
     "name": "stdout",
     "output_type": "stream",
     "text": [
      "Please input a number: 99\n",
      "You entered the number 99\n",
      "You entered a number between 0 and 100.\n"
     ]
    }
   ],
   "source": [
    "num = int(input('Please input a number: '))\n",
    "print('You entered the number '+str(num))\n",
    "if num >= 0 and num <= 100:\n",
    "    print('You entered a number between 0 and 100.')\n",
    "else:\n",
    "    print('You entered a number less than zero or greater than 100.')"
   ]
  },
  {
   "cell_type": "code",
   "execution_count": null,
   "metadata": {
    "collapsed": true
   },
   "outputs": [],
   "source": []
  },
  {
   "cell_type": "code",
   "execution_count": 9,
   "metadata": {
    "collapsed": false
   },
   "outputs": [
    {
     "name": "stdout",
     "output_type": "stream",
     "text": [
      "~~~~~\n",
      "~~~~~\n",
      "~~~~~\n",
      "~~~~~\n",
      "~~~~~\n"
     ]
    }
   ],
   "source": [
    "ad_map = print(\"~~~~~\\n~~~~~\\n~~~~~\\n~~~~~\\n~~~~~\")\n",
    "ad_map"
   ]
  },
  {
   "cell_type": "code",
   "execution_count": 15,
   "metadata": {
    "collapsed": false
   },
   "outputs": [
    {
     "name": "stdout",
     "output_type": "stream",
     "text": [
      "Type in the response you want, a list of prompts will be given\n",
      "\n",
      "You awaken in a darkened room. A light flickers:\n",
      " >go towards the light\n",
      "go towards the light\n",
      "\n",
      "You walk towards it. It is blinding. It is... \n",
      "electronic\n",
      "\n",
      "You awaken in a darkened room. A light flickers:\n",
      " >go towards the light\n",
      "butt\n",
      "\n",
      "you decide to stay in the dark for a while longer\n",
      "\n",
      "You awaken in a darkened room. A light flickers:\n",
      " >go towards the light\n",
      "butt\n",
      "\n",
      "you decide to stay in the dark for a while longer\n"
     ]
    },
    {
     "ename": "KeyboardInterrupt",
     "evalue": "",
     "output_type": "error",
     "traceback": [
      "\u001b[0;31m---------------------------------------------------------------------------\u001b[0m",
      "\u001b[0;31mKeyboardInterrupt\u001b[0m                         Traceback (most recent call last)",
      "\u001b[0;32m//anaconda/lib/python3.5/site-packages/ipykernel/kernelbase.py\u001b[0m in \u001b[0;36m_input_request\u001b[0;34m(self, prompt, ident, parent, password)\u001b[0m\n\u001b[1;32m    713\u001b[0m             \u001b[0;32mtry\u001b[0m\u001b[0;34m:\u001b[0m\u001b[0;34m\u001b[0m\u001b[0m\n\u001b[0;32m--> 714\u001b[0;31m                 \u001b[0mident\u001b[0m\u001b[0;34m,\u001b[0m \u001b[0mreply\u001b[0m \u001b[0;34m=\u001b[0m \u001b[0mself\u001b[0m\u001b[0;34m.\u001b[0m\u001b[0msession\u001b[0m\u001b[0;34m.\u001b[0m\u001b[0mrecv\u001b[0m\u001b[0;34m(\u001b[0m\u001b[0mself\u001b[0m\u001b[0;34m.\u001b[0m\u001b[0mstdin_socket\u001b[0m\u001b[0;34m,\u001b[0m \u001b[0;36m0\u001b[0m\u001b[0;34m)\u001b[0m\u001b[0;34m\u001b[0m\u001b[0m\n\u001b[0m\u001b[1;32m    715\u001b[0m             \u001b[0;32mexcept\u001b[0m \u001b[0mException\u001b[0m\u001b[0;34m:\u001b[0m\u001b[0;34m\u001b[0m\u001b[0m\n",
      "\u001b[0;32m//anaconda/lib/python3.5/site-packages/jupyter_client/session.py\u001b[0m in \u001b[0;36mrecv\u001b[0;34m(self, socket, mode, content, copy)\u001b[0m\n\u001b[1;32m    738\u001b[0m         \u001b[0;32mtry\u001b[0m\u001b[0;34m:\u001b[0m\u001b[0;34m\u001b[0m\u001b[0m\n\u001b[0;32m--> 739\u001b[0;31m             \u001b[0mmsg_list\u001b[0m \u001b[0;34m=\u001b[0m \u001b[0msocket\u001b[0m\u001b[0;34m.\u001b[0m\u001b[0mrecv_multipart\u001b[0m\u001b[0;34m(\u001b[0m\u001b[0mmode\u001b[0m\u001b[0;34m,\u001b[0m \u001b[0mcopy\u001b[0m\u001b[0;34m=\u001b[0m\u001b[0mcopy\u001b[0m\u001b[0;34m)\u001b[0m\u001b[0;34m\u001b[0m\u001b[0m\n\u001b[0m\u001b[1;32m    740\u001b[0m         \u001b[0;32mexcept\u001b[0m \u001b[0mzmq\u001b[0m\u001b[0;34m.\u001b[0m\u001b[0mZMQError\u001b[0m \u001b[0;32mas\u001b[0m \u001b[0me\u001b[0m\u001b[0;34m:\u001b[0m\u001b[0;34m\u001b[0m\u001b[0m\n",
      "\u001b[0;32m//anaconda/lib/python3.5/site-packages/zmq/sugar/socket.py\u001b[0m in \u001b[0;36mrecv_multipart\u001b[0;34m(self, flags, copy, track)\u001b[0m\n\u001b[1;32m    357\u001b[0m         \"\"\"\n\u001b[0;32m--> 358\u001b[0;31m         \u001b[0mparts\u001b[0m \u001b[0;34m=\u001b[0m \u001b[0;34m[\u001b[0m\u001b[0mself\u001b[0m\u001b[0;34m.\u001b[0m\u001b[0mrecv\u001b[0m\u001b[0;34m(\u001b[0m\u001b[0mflags\u001b[0m\u001b[0;34m,\u001b[0m \u001b[0mcopy\u001b[0m\u001b[0;34m=\u001b[0m\u001b[0mcopy\u001b[0m\u001b[0;34m,\u001b[0m \u001b[0mtrack\u001b[0m\u001b[0;34m=\u001b[0m\u001b[0mtrack\u001b[0m\u001b[0;34m)\u001b[0m\u001b[0;34m]\u001b[0m\u001b[0;34m\u001b[0m\u001b[0m\n\u001b[0m\u001b[1;32m    359\u001b[0m         \u001b[0;31m# have first part already, only loop while more to receive\u001b[0m\u001b[0;34m\u001b[0m\u001b[0;34m\u001b[0m\u001b[0m\n",
      "\u001b[0;32mzmq/backend/cython/socket.pyx\u001b[0m in \u001b[0;36mzmq.backend.cython.socket.Socket.recv (zmq/backend/cython/socket.c:6971)\u001b[0;34m()\u001b[0m\n",
      "\u001b[0;32mzmq/backend/cython/socket.pyx\u001b[0m in \u001b[0;36mzmq.backend.cython.socket.Socket.recv (zmq/backend/cython/socket.c:6763)\u001b[0;34m()\u001b[0m\n",
      "\u001b[0;32mzmq/backend/cython/socket.pyx\u001b[0m in \u001b[0;36mzmq.backend.cython.socket._recv_copy (zmq/backend/cython/socket.c:1931)\u001b[0;34m()\u001b[0m\n",
      "\u001b[0;32m//anaconda/lib/python3.5/site-packages/zmq/backend/cython/checkrc.pxd\u001b[0m in \u001b[0;36mzmq.backend.cython.checkrc._check_rc (zmq/backend/cython/socket.c:7222)\u001b[0;34m()\u001b[0m\n",
      "\u001b[0;31mKeyboardInterrupt\u001b[0m: ",
      "\nDuring handling of the above exception, another exception occurred:\n",
      "\u001b[0;31mKeyboardInterrupt\u001b[0m                         Traceback (most recent call last)",
      "\u001b[0;32m<ipython-input-15-d6f6c3e74d48>\u001b[0m in \u001b[0;36m<module>\u001b[0;34m()\u001b[0m\n\u001b[1;32m     12\u001b[0m \u001b[0;34m\u001b[0m\u001b[0m\n\u001b[1;32m     13\u001b[0m \u001b[0;32mif\u001b[0m \u001b[0m__name__\u001b[0m \u001b[0;34m==\u001b[0m \u001b[0;34m\"__main__\"\u001b[0m\u001b[0;34m:\u001b[0m\u001b[0;34m\u001b[0m\u001b[0m\n\u001b[0;32m---> 14\u001b[0;31m     \u001b[0mmain\u001b[0m\u001b[0;34m(\u001b[0m\u001b[0;34m)\u001b[0m\u001b[0;34m\u001b[0m\u001b[0m\n\u001b[0m",
      "\u001b[0;32m<ipython-input-15-d6f6c3e74d48>\u001b[0m in \u001b[0;36mmain\u001b[0;34m()\u001b[0m\n\u001b[1;32m      3\u001b[0m \u001b[0;32mdef\u001b[0m \u001b[0mmain\u001b[0m\u001b[0;34m(\u001b[0m\u001b[0;34m)\u001b[0m\u001b[0;34m:\u001b[0m\u001b[0;34m\u001b[0m\u001b[0m\n\u001b[1;32m      4\u001b[0m     \u001b[0;32mwhile\u001b[0m \u001b[0;32mTrue\u001b[0m\u001b[0;34m:\u001b[0m\u001b[0;34m\u001b[0m\u001b[0m\n\u001b[0;32m----> 5\u001b[0;31m         \u001b[0mstart\u001b[0m\u001b[0;34m=\u001b[0m\u001b[0minput\u001b[0m\u001b[0;34m(\u001b[0m\u001b[0;34m'\\nYou awaken in a darkened room. A light flickers:\\n >go towards the light\\n'\u001b[0m\u001b[0;34m)\u001b[0m\u001b[0;34m\u001b[0m\u001b[0m\n\u001b[0m\u001b[1;32m      6\u001b[0m \u001b[0;34m\u001b[0m\u001b[0m\n\u001b[1;32m      7\u001b[0m         \u001b[0;32mif\u001b[0m \u001b[0mstart\u001b[0m\u001b[0;34m==\u001b[0m\u001b[0;34m'go towards the light'\u001b[0m\u001b[0;34m:\u001b[0m\u001b[0;34m\u001b[0m\u001b[0m\n",
      "\u001b[0;32m//anaconda/lib/python3.5/site-packages/ipykernel/kernelbase.py\u001b[0m in \u001b[0;36mraw_input\u001b[0;34m(self, prompt)\u001b[0m\n\u001b[1;32m    687\u001b[0m             \u001b[0mself\u001b[0m\u001b[0;34m.\u001b[0m\u001b[0m_parent_ident\u001b[0m\u001b[0;34m,\u001b[0m\u001b[0;34m\u001b[0m\u001b[0m\n\u001b[1;32m    688\u001b[0m             \u001b[0mself\u001b[0m\u001b[0;34m.\u001b[0m\u001b[0m_parent_header\u001b[0m\u001b[0;34m,\u001b[0m\u001b[0;34m\u001b[0m\u001b[0m\n\u001b[0;32m--> 689\u001b[0;31m             \u001b[0mpassword\u001b[0m\u001b[0;34m=\u001b[0m\u001b[0;32mFalse\u001b[0m\u001b[0;34m,\u001b[0m\u001b[0;34m\u001b[0m\u001b[0m\n\u001b[0m\u001b[1;32m    690\u001b[0m         )\n\u001b[1;32m    691\u001b[0m \u001b[0;34m\u001b[0m\u001b[0m\n",
      "\u001b[0;32m//anaconda/lib/python3.5/site-packages/ipykernel/kernelbase.py\u001b[0m in \u001b[0;36m_input_request\u001b[0;34m(self, prompt, ident, parent, password)\u001b[0m\n\u001b[1;32m    717\u001b[0m             \u001b[0;32mexcept\u001b[0m \u001b[0mKeyboardInterrupt\u001b[0m\u001b[0;34m:\u001b[0m\u001b[0;34m\u001b[0m\u001b[0m\n\u001b[1;32m    718\u001b[0m                 \u001b[0;31m# re-raise KeyboardInterrupt, to truncate traceback\u001b[0m\u001b[0;34m\u001b[0m\u001b[0;34m\u001b[0m\u001b[0m\n\u001b[0;32m--> 719\u001b[0;31m                 \u001b[0;32mraise\u001b[0m \u001b[0mKeyboardInterrupt\u001b[0m\u001b[0;34m\u001b[0m\u001b[0m\n\u001b[0m\u001b[1;32m    720\u001b[0m             \u001b[0;32melse\u001b[0m\u001b[0;34m:\u001b[0m\u001b[0;34m\u001b[0m\u001b[0m\n\u001b[1;32m    721\u001b[0m                 \u001b[0;32mbreak\u001b[0m\u001b[0;34m\u001b[0m\u001b[0m\n",
      "\u001b[0;31mKeyboardInterrupt\u001b[0m: "
     ]
    }
   ],
   "source": [
    "print('Type in the response you want, a list of prompts will be given')\n",
    "\n",
    "def main():\n",
    "    while True:\n",
    "        start=input('\\nYou awaken in a darkened room. A light flickers:\\n >go towards the light\\n')\n",
    "\n",
    "        if start=='go towards the light':\n",
    "            print('\\nYou walk towards it. It is blinding. It is... \\nelectronic')\n",
    "          #go to x\n",
    "        else:\n",
    "            print('\\nyou decide to stay in the dark for a while longer')\n",
    "\n",
    "if __name__ == \"__main__\":\n",
    "    main()"
   ]
  },
  {
   "cell_type": "code",
   "execution_count": null,
   "metadata": {
    "collapsed": true
   },
   "outputs": [],
   "source": [
    "class Item():\n",
    "    \"\"\"The base class for all items\"\"\"\n",
    "    def __init__(self, name, description, value):\n",
    "        self.name = name\n",
    "        self.description = description\n",
    "        self.value = value\n",
    " \n",
    "    def __str__(self):\n",
    "        return \"{}\\n=====\\n{}\\nValue: {}\\n\".format(self.name, self.description, self.value)"
   ]
  },
  {
   "cell_type": "markdown",
   "metadata": {},
   "source": [
    "There are 5 games to play in this down the hallways which one do you play?\n",
    "gambit (random number)\n",
    "guess the number\n",
    "3 riddles\n",
    "help me fin these items so i'll give you this key item (maybe?)\n",
    "control the rocket ship to safty?\n",
    "change (XOXOX to OOOOO)\n",
    "find the combination on the lock"
   ]
  },
  {
   "cell_type": "code",
   "execution_count": 14,
   "metadata": {
    "collapsed": false
   },
   "outputs": [
    {
     "name": "stdout",
     "output_type": "stream",
     "text": [
      "Hey there. you look like you're in need of something. I'm bored, need some fun, lets play a game!\n",
      "say, whats your name?\n",
      "JJJ\n",
      "Well, JJJ, I am thinking of a number between 1 and 20.\n",
      "Take a guess: 10\n",
      "Too low, too slow kiddo.\n",
      "Take a guess: 15\n",
      "Nope. That's too high. heh.\n",
      "Take a guess: 13\n",
      "hahaha! you got it! My number was 13 Well a deals a deal and I've had fun. Here's you prize!\n"
     ]
    }
   ],
   "source": [
    "import random\n",
    "\n",
    "print('Hey there. you look like you\\'re in need of something. I\\'m bored, need some fun, lets play a game!\\nsay, whats your name?')\n",
    "myName = input()\n",
    "\n",
    "print('Well, ' + myName + ', I am thinking of a number between 1 and 20.')\n",
    "\n",
    "TRIES_ALLOWED = 6\n",
    "number = random.randint(1, 20)\n",
    "\n",
    "for tries in range(1,6):\n",
    "    guess = int(input(\"Take a guess: \"))\n",
    "\n",
    "    if guess > number:\n",
    "        print('Nope. That\\'s too high. heh.')\n",
    "    elif guess < number:\n",
    "        print('Too low, too slow kiddo.')\n",
    "    else:\n",
    "        print('hahaha! you got it! My number was ' +str(number)+ ' Well a deals a deal and I\\'ve had fun. Here\\'s you prize!')\n",
    "        break\n",
    "else:\n",
    "    print('You\\'re taking too long, The number I was thinking of was ' + str(number)+' bored now. Try me again later, bye. ')"
   ]
  },
  {
   "cell_type": "code",
   "execution_count": 19,
   "metadata": {
    "collapsed": false
   },
   "outputs": [
    {
     "name": "stdout",
     "output_type": "stream",
     "text": [
      "Welome one, welcome all. To my game of riddles three. \n",
      "My first riddle is this:\n",
      "butt \n",
      "What am I?\n",
      "Take a guess: butt\n",
      "Congratulations! You've done and solved it, onto the next one\n",
      "riddle2\n",
      "Take a guess: elf\n",
      "congrats2\n",
      "riddle3\n",
      "Take a guess: andd\n",
      "Soooooo close, try again later.\n"
     ]
    }
   ],
   "source": [
    "print('Welome one, welcome all. To my game of riddles three. \\nMy first riddle is this:\\nbutt \\nWhat am I?')\n",
    "ans1='butt'\n",
    "ans2='elf'\n",
    "ans3='gah'\n",
    "\n",
    "guess = input(\"Take a guess: \")\n",
    "if guess.lower() == ans1:\n",
    "    print('Congratulations! You\\'ve done and solved it, onto the next one')\n",
    "else:\n",
    "    print('incorrect. how sad.')\n",
    "        \n",
    "          \n",
    "print('riddle2')\n",
    "guess = input(\"Take a guess: \")\n",
    "if guess.lower() == ans2:\n",
    "    print('congrats2')\n",
    "else:\n",
    "    print('incorrect. how sad.')\n",
    "    \n",
    "          \n",
    "print('riddle3')\n",
    "guess = input(\"Take a guess: \")\n",
    "if guess.lower() == ans3:\n",
    "    print('Great job ond ei donwb sf')\n",
    "else:\n",
    "    print('Soooooo close, try again later.')\n",
    "    \n",
    "          "
   ]
  },
  {
   "cell_type": "code",
   "execution_count": null,
   "metadata": {
    "collapsed": true
   },
   "outputs": [],
   "source": [
    "print('you there. i need help. ')\n",
    "print('emerges form shadows ')\n",
    "print('no do not go. ')\n",
    "print('I know what you need, i see it ')\n",
    "print('get this blasted lock off of me and i will give it')\n",
    "words = input(\"\")\n",
    "print('why? are you blind my. hands. are. locked. simpleton. ')\n",
    "print('it does not matter how i got into this. all that matters is that we can make an exhange of services and goods')\n",
    "print('change the all the X to O, a simple puzzle but one i am physically unable to do. *he jangles his chains*')\n",
    "\n",
    "\n",
    "position = input('')\n",
    "if postion== 1:\n",
    "    er\n",
    "elif postion== 2:\n",
    "    ewf\n",
    "elif postion== 3:\n",
    "    ewf\n",
    "elif postion== 4:\n",
    "    ewf\n",
    "elif postion== 5:\n",
    "    ewf\n",
    "else:\n",
    "    print('what are you doing. that is not a button.)"
   ]
  },
  {
   "cell_type": "code",
   "execution_count": 29,
   "metadata": {
    "collapsed": false
   },
   "outputs": [
    {
     "name": "stdout",
     "output_type": "stream",
     "text": [
      "\n",
      "X\n",
      "p1 0\n",
      "\n",
      "O\n",
      "p2 1\n",
      "\n",
      "X\n",
      "p3 0\n",
      "\n",
      "O\n",
      "p4 1\n",
      "\n",
      "X\n",
      "p5 0\n"
     ]
    }
   ],
   "source": [
    "if current == XXXXX:\n",
    " print clcik unlocked\n",
    "    \n",
    "symbols = {'p1': 0,'p2': 1,'p3': 0, 'p4': 1,'p5': 0}\n",
    "\n",
    "# Print out the items in the dictionary.\n",
    "for word, meaning in sorted(symbols.items()):\n",
    "    if int(meaning)%2== 0:\n",
    "        print('\\nX')\n",
    "        print(word,meaning)\n",
    "    else:\n",
    "        print('\\nO')\n",
    "        print(word,meaning)\n",
    "def alter(name):\n",
    "    position = int(input())\n",
    "    if position== 1:\n",
    "        symbols['p2'] += 1\n",
    "    \n",
    "    elif position== 2:\n",
    "        symbols['p1'] += 1\n",
    "        symbols['p3'] += 1\n",
    "    \n",
    "    elif position== 3:\n",
    "        symbols['p2'] += 1\n",
    "        symbols['p4'] += 1\n",
    "    \n",
    "    elif position== 4:\n",
    "        symbols['p3'] += 1\n",
    "        symbols['p5'] += 1\n",
    "    \n",
    "    elif position== 5:\n",
    "        symbols['p4'] += 1\n",
    "    else:\n",
    "        print('what are you doing. that is not a button. stop pressing that....\\nStop.')"
   ]
  },
  {
   "cell_type": "code",
   "execution_count": 113,
   "metadata": {
    "collapsed": false
   },
   "outputs": [
    {
     "name": "stdout",
     "output_type": "stream",
     "text": [
      "\n",
      ">press a button\n",
      ">check the lock\n",
      ">attempt to unlock\n",
      ":press a button\n",
      "\n",
      ">1\n",
      ">2\n",
      ">3\n",
      ">4\n",
      ">5\n",
      ":3\n",
      "\n",
      ">press a button\n",
      ">check the lock\n",
      ">attempt to unlock\n",
      ":check the lock\n",
      "O\n",
      "O\n",
      "O\n",
      "O\n",
      "O\n",
      "\n",
      ">press a button\n",
      ">check the lock\n",
      ">attempt to unlock\n",
      ":attempt to unlock\n",
      "\n",
      "*click*\n",
      "\"fantastic. took you long enough.\"\n",
      "he sighs and rummages through his pockets.\n",
      "\n",
      "\"my thanks. your reward.\"\n"
     ]
    }
   ],
   "source": [
    "#YEEEEEAAAAAHHHHH\n",
    "symbols = {'p1': 0,'p2': 1,'p3': 0, 'p4': 1,'p5': 0}\n",
    "\n",
    "def alter(name):\n",
    "    position = input('\\n>1\\n>2\\n>3\\n>4\\n>5\\n:')\n",
    "    if position== '1':\n",
    "        symbols['p2'] += 1\n",
    "    \n",
    "    elif position== '2':\n",
    "        symbols['p1'] += 1\n",
    "        symbols['p3'] += 1\n",
    "    \n",
    "    elif position== '3':\n",
    "        symbols['p2'] += 1\n",
    "        symbols['p4'] += 1\n",
    "    \n",
    "    elif position== '4':\n",
    "        symbols['p3'] += 1\n",
    "        symbols['p5'] += 1\n",
    "    \n",
    "    elif position== '5':\n",
    "        symbols['p4'] += 1\n",
    "        \n",
    "    else:\n",
    "        print('what are you doing. that is not a button. stop pressing that....\\nStop.')\n",
    "        \n",
    "        \n",
    "        \n",
    "def check(name):\n",
    "    for word, meaning in sorted(symbols.items()):\n",
    "        if int(meaning)%2== True:\n",
    "            print('X')\n",
    "        else:\n",
    "            print('O')\n",
    "            \n",
    "def unlock(name):\n",
    "    temp=0\n",
    "    for word, meaning in (symbols.items()):\n",
    "        if meaning%2==0:\n",
    "            temp+=1\n",
    "        elif (meaning%2==0)==False:\n",
    "            print('still here. still locked.')\n",
    "            break\n",
    "    if temp==5:\n",
    "        print('\\n*click*\\n\\\"fantastic. took you long enough.\\\"\\nhe sighs and rummages through his pockets.\\n\\n\\\"my thanks. your reward.\\\"')\n",
    "    else:\n",
    "        print('failure')\n",
    "        print('*The lock has reset, try again*')\n",
    "\n",
    "def game(go):\n",
    "    decision = input('\\n>press a button\\n>check the lock\\n>attempt to unlock\\n:')\n",
    "    if decision.lower() == 'press a button':\n",
    "            alter('status')\n",
    "            game('play')\n",
    "    elif decision.lower() == 'check the lock':\n",
    "        check('status') \n",
    "        game('play')\n",
    "    elif decision.lower() == 'attempt to unlock':\n",
    "        unlock('status')\n",
    "    else:\n",
    "        print('not an option')\n",
    "        game('play')\n",
    "\n",
    "game('play')"
   ]
  },
  {
   "cell_type": "code",
   "execution_count": 61,
   "metadata": {
    "collapsed": false
   },
   "outputs": [
    {
     "name": "stdout",
     "output_type": "stream",
     "text": [
      "no\n",
      "what are you doing. that is not a button. stop pressing that....\n",
      "Stop.\n",
      "p1 0\n",
      "p2 1\n",
      "p3 0\n",
      "p4 1\n",
      "p5 0\n"
     ]
    }
   ],
   "source": [
    "\n",
    "symbols = {'p1': 0,'p2': 1,'p3': 0, 'p4': 1,'p5': 0}\n",
    "\n",
    "def alter(name):\n",
    "    position = input('')\n",
    "    if position== '1':\n",
    "        symbols['p2'] += 1\n",
    "    \n",
    "    elif position== '2':\n",
    "        symbols['p1'] += 1\n",
    "        symbols['p3'] += 1\n",
    "    \n",
    "    elif position== '3':\n",
    "        symbols['p2'] += 1\n",
    "        symbols['p4'] += 1\n",
    "    \n",
    "    elif position== '4':\n",
    "        symbols['p3'] += 1\n",
    "        symbols['p5'] += 1\n",
    "    \n",
    "    elif position== '5':\n",
    "        symbols['p4'] += 1\n",
    "        \n",
    "    else:\n",
    "        print('what are you doing. that is not a button. stop pressing that....\\nStop.')\n",
    "        \n",
    "alter('status')\n",
    "\n",
    "for word, meaning in sorted(symbols.items()):\n",
    "    print(word,meaning)"
   ]
  },
  {
   "cell_type": "code",
   "execution_count": 94,
   "metadata": {
    "collapsed": false
   },
   "outputs": [
    {
     "name": "stdout",
     "output_type": "stream",
     "text": [
      "*click*\n",
      "\"fantastic. took you long enough.\"\n",
      "he sighs and rummages through his pockets.\n",
      "\"my thanks. your reward.\"\n"
     ]
    }
   ],
   "source": [
    "symbols = {'p1': 0,'p2': 2,'p3': 0, 'p4': 4,'p5': 0}\n",
    "def unlock(name):\n",
    "    temp=0\n",
    "    for word, meaning in (symbols.items()):\n",
    "        if meaning%2==0:\n",
    "            temp+=1\n",
    "        elif (meaning%2==0)==False:\n",
    "            print('still here. still locked.')\n",
    "            break\n",
    "    if temp==5:\n",
    "        print('*click*\\n\\\"fantastic. took you long enough.\\\"\\nhe sighs and rummages through his pockets.\\n\\\"my thanks. your reward.\\\"')\n",
    "    else:\n",
    "        print('failure')\n",
    "          #  alter('status')\n",
    "         #   check('status')\n",
    "unlock('status')"
   ]
  },
  {
   "cell_type": "code",
   "execution_count": 83,
   "metadata": {
    "collapsed": false
   },
   "outputs": [
    {
     "name": "stdout",
     "output_type": "stream",
     "text": [
      "YAA\n"
     ]
    }
   ],
   "source": [
    "meaning=5\n",
    "meaning%2==0\n",
    "if (meaning%2==0)==False:\n",
    "    print('YAA')\n",
    "else:\n",
    "    print('sdf')"
   ]
  },
  {
   "cell_type": "code",
   "execution_count": null,
   "metadata": {
    "collapsed": true
   },
   "outputs": [],
   "source": []
  }
 ],
 "metadata": {
  "kernelspec": {
   "display_name": "Python [Root]",
   "language": "python",
   "name": "Python [Root]"
  },
  "language_info": {
   "codemirror_mode": {
    "name": "ipython",
    "version": 3
   },
   "file_extension": ".py",
   "mimetype": "text/x-python",
   "name": "python",
   "nbconvert_exporter": "python",
   "pygments_lexer": "ipython3",
   "version": "3.5.2"
  }
 },
 "nbformat": 4,
 "nbformat_minor": 0
}
